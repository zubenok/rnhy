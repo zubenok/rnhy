{
 "cells": [
  {
   "cell_type": "markdown",
   "id": "07795398",
   "metadata": {},
   "source": [
    "В этой задаче по прогнозированию цен на жилье с использованием машинного обучения наша задача - использовать данные переписи населения Калифорнии для создания модели машинного обучения для прогнозирования цен на жилье в штате. Данные включают такие характеристики, как численность населения, средний доход и средние цены на жилье для каждой группы кварталов в Калифорнии.\n",
    "\n",
    "Квартальные группы - это наименьшая географическая единица, население которой обычно составляет от 600 до 3000 человек. Для краткости мы можем называть их районами. В конечном счете, наша модель машинного обучения должна быть в состоянии предсказать среднюю цену на жилье в любом районе с учетом всех других показателей.\n",
    "\n",
    "Методы регрессионного анализа могут помочь определить, какие из переменных наиболее сильно влияют на цену на жилье, и как они взаимодействуют друг с другом. "
   ]
  },
  {
   "cell_type": "code",
   "execution_count": 905,
   "id": "1601115a",
   "metadata": {},
   "outputs": [],
   "source": [
    "#Зависимая переменная - median_house_value"
   ]
  },
  {
   "cell_type": "code",
   "execution_count": 906,
   "id": "6cf2cd5b",
   "metadata": {},
   "outputs": [],
   "source": [
    "import warnings\n",
    "warnings.filterwarnings('ignore')\n",
    "import statsmodels\n",
    "import scipy as sc\n",
    "import numpy as np\n",
    "import pandas as pd\n",
    "import statsmodels.formula.api as smf\n",
    "import statsmodels.stats.api as sms\n",
    "from statsmodels.graphics.regressionplots import plot_leverage_resid2\n",
    "import matplotlib.pyplot as plt\n",
    "from statsmodels.stats.outliers_influence import variance_inflation_factor\n",
    "\n",
    "\n"
   ]
  },
  {
   "cell_type": "code",
   "execution_count": 907,
   "id": "eb52b77f",
   "metadata": {},
   "outputs": [],
   "source": [
    "df_train=pd.read_csv('house.csv')\n"
   ]
  },
  {
   "cell_type": "markdown",
   "id": "c0dda467",
   "metadata": {},
   "source": [
    "# оставим только колонки с числовыми значениями"
   ]
  },
  {
   "cell_type": "code",
   "execution_count": 908,
   "id": "f51f60b6",
   "metadata": {},
   "outputs": [
    {
     "data": {
      "text/plain": [
       "Index(['Square', 'LifeSquare', 'KitchenSquare', 'Ecology_1', 'Healthcare_1',\n",
       "       'Price'],\n",
       "      dtype='object')"
      ]
     },
     "execution_count": 908,
     "metadata": {},
     "output_type": "execute_result"
    }
   ],
   "source": [
    "numeric_features = df_train.select_dtypes(include=[np.number])\n",
    "numeric_features = numeric_features.select_dtypes(include=['float'])\n",
    "numeric_features =numeric_features.drop(['Rooms', 'HouseFloor'],  axis=1)\n",
    "\n",
    "numeric_features.columns"
   ]
  },
  {
   "cell_type": "code",
   "execution_count": 909,
   "id": "83445f05",
   "metadata": {},
   "outputs": [
    {
     "data": {
      "text/html": [
       "<div>\n",
       "<style scoped>\n",
       "    .dataframe tbody tr th:only-of-type {\n",
       "        vertical-align: middle;\n",
       "    }\n",
       "\n",
       "    .dataframe tbody tr th {\n",
       "        vertical-align: top;\n",
       "    }\n",
       "\n",
       "    .dataframe thead th {\n",
       "        text-align: right;\n",
       "    }\n",
       "</style>\n",
       "<table border=\"1\" class=\"dataframe\">\n",
       "  <thead>\n",
       "    <tr style=\"text-align: right;\">\n",
       "      <th></th>\n",
       "      <th>Square</th>\n",
       "      <th>LifeSquare</th>\n",
       "      <th>KitchenSquare</th>\n",
       "      <th>Ecology_1</th>\n",
       "      <th>Healthcare_1</th>\n",
       "      <th>Price</th>\n",
       "    </tr>\n",
       "  </thead>\n",
       "  <tbody>\n",
       "    <tr>\n",
       "      <th>0</th>\n",
       "      <td>47.981561</td>\n",
       "      <td>29.442751</td>\n",
       "      <td>6.0</td>\n",
       "      <td>0.089040</td>\n",
       "      <td>NaN</td>\n",
       "      <td>184966.930730</td>\n",
       "    </tr>\n",
       "    <tr>\n",
       "      <th>1</th>\n",
       "      <td>65.683640</td>\n",
       "      <td>40.049543</td>\n",
       "      <td>8.0</td>\n",
       "      <td>0.000070</td>\n",
       "      <td>240.0</td>\n",
       "      <td>300009.450063</td>\n",
       "    </tr>\n",
       "    <tr>\n",
       "      <th>2</th>\n",
       "      <td>44.947953</td>\n",
       "      <td>29.197612</td>\n",
       "      <td>0.0</td>\n",
       "      <td>0.049637</td>\n",
       "      <td>229.0</td>\n",
       "      <td>220925.908524</td>\n",
       "    </tr>\n",
       "    <tr>\n",
       "      <th>3</th>\n",
       "      <td>53.352981</td>\n",
       "      <td>52.731512</td>\n",
       "      <td>9.0</td>\n",
       "      <td>0.437885</td>\n",
       "      <td>1084.0</td>\n",
       "      <td>175616.227217</td>\n",
       "    </tr>\n",
       "    <tr>\n",
       "      <th>4</th>\n",
       "      <td>39.649192</td>\n",
       "      <td>23.776169</td>\n",
       "      <td>7.0</td>\n",
       "      <td>0.012339</td>\n",
       "      <td>2078.0</td>\n",
       "      <td>150226.531644</td>\n",
       "    </tr>\n",
       "    <tr>\n",
       "      <th>...</th>\n",
       "      <td>...</td>\n",
       "      <td>...</td>\n",
       "      <td>...</td>\n",
       "      <td>...</td>\n",
       "      <td>...</td>\n",
       "      <td>...</td>\n",
       "    </tr>\n",
       "    <tr>\n",
       "      <th>9995</th>\n",
       "      <td>50.401785</td>\n",
       "      <td>30.476203</td>\n",
       "      <td>5.0</td>\n",
       "      <td>0.135650</td>\n",
       "      <td>350.0</td>\n",
       "      <td>196684.316040</td>\n",
       "    </tr>\n",
       "    <tr>\n",
       "      <th>9996</th>\n",
       "      <td>41.521546</td>\n",
       "      <td>20.539216</td>\n",
       "      <td>9.0</td>\n",
       "      <td>0.000000</td>\n",
       "      <td>NaN</td>\n",
       "      <td>189050.289571</td>\n",
       "    </tr>\n",
       "    <tr>\n",
       "      <th>9997</th>\n",
       "      <td>47.939008</td>\n",
       "      <td>NaN</td>\n",
       "      <td>1.0</td>\n",
       "      <td>0.072158</td>\n",
       "      <td>NaN</td>\n",
       "      <td>159143.805370</td>\n",
       "    </tr>\n",
       "    <tr>\n",
       "      <th>9998</th>\n",
       "      <td>43.602562</td>\n",
       "      <td>33.840147</td>\n",
       "      <td>8.0</td>\n",
       "      <td>0.307467</td>\n",
       "      <td>325.0</td>\n",
       "      <td>181595.339808</td>\n",
       "    </tr>\n",
       "    <tr>\n",
       "      <th>9999</th>\n",
       "      <td>38.666645</td>\n",
       "      <td>21.157874</td>\n",
       "      <td>8.0</td>\n",
       "      <td>0.000000</td>\n",
       "      <td>30.0</td>\n",
       "      <td>218714.077615</td>\n",
       "    </tr>\n",
       "  </tbody>\n",
       "</table>\n",
       "<p>10000 rows × 6 columns</p>\n",
       "</div>"
      ],
      "text/plain": [
       "         Square  LifeSquare  KitchenSquare  Ecology_1  Healthcare_1  \\\n",
       "0     47.981561   29.442751            6.0   0.089040           NaN   \n",
       "1     65.683640   40.049543            8.0   0.000070         240.0   \n",
       "2     44.947953   29.197612            0.0   0.049637         229.0   \n",
       "3     53.352981   52.731512            9.0   0.437885        1084.0   \n",
       "4     39.649192   23.776169            7.0   0.012339        2078.0   \n",
       "...         ...         ...            ...        ...           ...   \n",
       "9995  50.401785   30.476203            5.0   0.135650         350.0   \n",
       "9996  41.521546   20.539216            9.0   0.000000           NaN   \n",
       "9997  47.939008         NaN            1.0   0.072158           NaN   \n",
       "9998  43.602562   33.840147            8.0   0.307467         325.0   \n",
       "9999  38.666645   21.157874            8.0   0.000000          30.0   \n",
       "\n",
       "              Price  \n",
       "0     184966.930730  \n",
       "1     300009.450063  \n",
       "2     220925.908524  \n",
       "3     175616.227217  \n",
       "4     150226.531644  \n",
       "...             ...  \n",
       "9995  196684.316040  \n",
       "9996  189050.289571  \n",
       "9997  159143.805370  \n",
       "9998  181595.339808  \n",
       "9999  218714.077615  \n",
       "\n",
       "[10000 rows x 6 columns]"
      ]
     },
     "execution_count": 909,
     "metadata": {},
     "output_type": "execute_result"
    }
   ],
   "source": [
    "numeric_features"
   ]
  },
  {
   "cell_type": "markdown",
   "id": "b7085a2d",
   "metadata": {},
   "source": [
    "# опишем переменные "
   ]
  },
  {
   "cell_type": "code",
   "execution_count": 910,
   "id": "afe3e21d",
   "metadata": {},
   "outputs": [
    {
     "name": "stdout",
     "output_type": "stream",
     "text": [
      "<class 'pandas.core.frame.DataFrame'>\n",
      "RangeIndex: 10000 entries, 0 to 9999\n",
      "Data columns (total 6 columns):\n",
      " #   Column         Non-Null Count  Dtype  \n",
      "---  ------         --------------  -----  \n",
      " 0   Square         10000 non-null  float64\n",
      " 1   LifeSquare     7887 non-null   float64\n",
      " 2   KitchenSquare  10000 non-null  float64\n",
      " 3   Ecology_1      10000 non-null  float64\n",
      " 4   Healthcare_1   5202 non-null   float64\n",
      " 5   Price          10000 non-null  float64\n",
      "dtypes: float64(6)\n",
      "memory usage: 468.9 KB\n"
     ]
    }
   ],
   "source": [
    "numeric_features.info()"
   ]
  },
  {
   "cell_type": "code",
   "execution_count": 911,
   "id": "c0004660",
   "metadata": {},
   "outputs": [],
   "source": [
    "#Id - идентификационный номер квартиры\n",
    "#DistrictId - идентификационный номер района\n",
    "#Rooms - количество комнат\n",
    "#Square - площадь\n",
    "#LifeSquare - жилая площадь\n",
    "#KitchenSquare - площадь кухни\n",
    "#Floor - этаж\n",
    "#HouseFloor - количество этажей в доме\n",
    "#HouseYear - год постройки дома\n",
    "#Ecology_1, Ecology_2, Ecology_3 - экологические показатели местности\n",
    "#Social_1, Social_2, Social_3 - социальные показатели местности\n",
    "#Healthcare_1, Helthcare_2 - показатели местности, связанные с охраной здоровья\n",
    "#Shops_1, Shops_2 - показатели, связанные с наличием магазинов, торговых центров\n",
    "#Price - цена квартиры "
   ]
  },
  {
   "cell_type": "code",
   "execution_count": 912,
   "id": "7c0f7c9b",
   "metadata": {},
   "outputs": [
    {
     "data": {
      "text/plain": [
       "count     10000.000000\n",
       "mean     214138.857399\n",
       "std       92872.293865\n",
       "min       59174.778028\n",
       "25%      153872.633942\n",
       "50%      192269.644879\n",
       "75%      249135.462171\n",
       "max      633233.466570\n",
       "Name: Price, dtype: float64"
      ]
     },
     "execution_count": 912,
     "metadata": {},
     "output_type": "execute_result"
    }
   ],
   "source": [
    "# Теперь, поскольку мы будем предсказывать цену жилья, посмотрим описание этой колонки\n",
    "numeric_features['Price'].describe()"
   ]
  },
  {
   "cell_type": "code",
   "execution_count": 913,
   "id": "bb1c2678",
   "metadata": {},
   "outputs": [],
   "source": [
    "#построим диаграмму для каждого числового атрибута"
   ]
  },
  {
   "cell_type": "code",
   "execution_count": 914,
   "id": "328bb80c",
   "metadata": {},
   "outputs": [
    {
     "data": {
      "image/png": "[encoded data removed]",
      "text/plain": [
       "<Figure size 1000x800 with 6 Axes>"
      ]
     },
     "metadata": {},
     "output_type": "display_data"
    }
   ],
   "source": [
    "numeric_features.hist(bins=50, figsize=(10, 8))\n",
    "plt.show()"
   ]
  },
  {
   "cell_type": "markdown",
   "id": "53be51b2",
   "metadata": {},
   "source": [
    "# избавимся от выбросов"
   ]
  },
  {
   "cell_type": "code",
   "execution_count": 915,
   "id": "b83672b0",
   "metadata": {},
   "outputs": [
    {
     "data": {
      "text/plain": [
       "<Axes: >"
      ]
     },
     "execution_count": 915,
     "metadata": {},
     "output_type": "execute_result"
    },
    {
     "data": {
      "image/png": "[encoded data removed]",
      "text/plain": [
       "<Figure size 640x480 with 1 Axes>"
      ]
     },
     "metadata": {},
     "output_type": "display_data"
    }
   ],
   "source": [
    "sns.boxplot(numeric_features['Price'])"
   ]
  },
  {
   "cell_type": "code",
   "execution_count": 916,
   "id": "53d62a75",
   "metadata": {},
   "outputs": [
    {
     "name": "stdout",
     "output_type": "stream",
     "text": [
      "392029.7045148853\n"
     ]
    }
   ],
   "source": [
    "q1 = numeric_features['Price'].quantile(0.25)\n",
    "q3 = numeric_features['Price'].quantile(0.75)\n",
    "iqr = q3 - q1\n",
    "gran = 1.5 * iqr + q3\n",
    "print(gran)"
   ]
  },
  {
   "cell_type": "code",
   "execution_count": 917,
   "id": "e767d135",
   "metadata": {},
   "outputs": [],
   "source": [
    "numeric_features = numeric_features[numeric_features['Price']<gran]"
   ]
  },
  {
   "cell_type": "code",
   "execution_count": 918,
   "id": "985e495e",
   "metadata": {},
   "outputs": [
    {
     "data": {
      "text/plain": [
       "count      9417.000000\n",
       "mean     198439.986670\n",
       "std       68677.236826\n",
       "min       59174.778028\n",
       "25%      151028.428278\n",
       "50%      187599.924231\n",
       "75%      236647.781363\n",
       "max      391982.648184\n",
       "Name: Price, dtype: float64"
      ]
     },
     "execution_count": 918,
     "metadata": {},
     "output_type": "execute_result"
    }
   ],
   "source": [
    "numeric_features['Price'].describe()"
   ]
  },
  {
   "cell_type": "code",
   "execution_count": 919,
   "id": "b9b593fe",
   "metadata": {},
   "outputs": [
    {
     "data": {
      "text/plain": [
       "<Axes: >"
      ]
     },
     "execution_count": 919,
     "metadata": {},
     "output_type": "execute_result"
    },
    {
     "data": {
      "image/png": "[encoded data removed]",
      "text/plain": [
       "<Figure size 640x480 with 1 Axes>"
      ]
     },
     "metadata": {},
     "output_type": "display_data"
    }
   ],
   "source": [
    "sns.boxplot(numeric_features['Price'])"
   ]
  },
  {
   "cell_type": "code",
   "execution_count": 920,
   "id": "79089e9c",
   "metadata": {},
   "outputs": [],
   "source": [
    "#получили без выбросов\n"
   ]
  },
  {
   "cell_type": "markdown",
   "id": "fdc5a6fc",
   "metadata": {},
   "source": [
    "# Анализ коэффициентов вздутия дисперсии"
   ]
  },
  {
   "cell_type": "code",
   "execution_count": 921,
   "id": "1a3bb99d",
   "metadata": {},
   "outputs": [],
   "source": [
    "X=numeric_features.drop(['Price'],  axis=1)\n"
   ]
  },
  {
   "cell_type": "code",
   "execution_count": 922,
   "id": "e5ba39a6",
   "metadata": {},
   "outputs": [
    {
     "data": {
      "text/html": [
       "<div>\n",
       "<style scoped>\n",
       "    .dataframe tbody tr th:only-of-type {\n",
       "        vertical-align: middle;\n",
       "    }\n",
       "\n",
       "    .dataframe tbody tr th {\n",
       "        vertical-align: top;\n",
       "    }\n",
       "\n",
       "    .dataframe thead th {\n",
       "        text-align: right;\n",
       "    }\n",
       "</style>\n",
       "<table border=\"1\" class=\"dataframe\">\n",
       "  <thead>\n",
       "    <tr style=\"text-align: right;\">\n",
       "      <th></th>\n",
       "      <th>Square</th>\n",
       "      <th>LifeSquare</th>\n",
       "      <th>KitchenSquare</th>\n",
       "      <th>Ecology_1</th>\n",
       "      <th>Healthcare_1</th>\n",
       "    </tr>\n",
       "  </thead>\n",
       "  <tbody>\n",
       "    <tr>\n",
       "      <th>0</th>\n",
       "      <td>47.981561</td>\n",
       "      <td>29.442751</td>\n",
       "      <td>6.0</td>\n",
       "      <td>0.089040</td>\n",
       "      <td>NaN</td>\n",
       "    </tr>\n",
       "    <tr>\n",
       "      <th>1</th>\n",
       "      <td>65.683640</td>\n",
       "      <td>40.049543</td>\n",
       "      <td>8.0</td>\n",
       "      <td>0.000070</td>\n",
       "      <td>240.0</td>\n",
       "    </tr>\n",
       "    <tr>\n",
       "      <th>2</th>\n",
       "      <td>44.947953</td>\n",
       "      <td>29.197612</td>\n",
       "      <td>0.0</td>\n",
       "      <td>0.049637</td>\n",
       "      <td>229.0</td>\n",
       "    </tr>\n",
       "    <tr>\n",
       "      <th>3</th>\n",
       "      <td>53.352981</td>\n",
       "      <td>52.731512</td>\n",
       "      <td>9.0</td>\n",
       "      <td>0.437885</td>\n",
       "      <td>1084.0</td>\n",
       "    </tr>\n",
       "    <tr>\n",
       "      <th>4</th>\n",
       "      <td>39.649192</td>\n",
       "      <td>23.776169</td>\n",
       "      <td>7.0</td>\n",
       "      <td>0.012339</td>\n",
       "      <td>2078.0</td>\n",
       "    </tr>\n",
       "    <tr>\n",
       "      <th>...</th>\n",
       "      <td>...</td>\n",
       "      <td>...</td>\n",
       "      <td>...</td>\n",
       "      <td>...</td>\n",
       "      <td>...</td>\n",
       "    </tr>\n",
       "    <tr>\n",
       "      <th>9995</th>\n",
       "      <td>50.401785</td>\n",
       "      <td>30.476203</td>\n",
       "      <td>5.0</td>\n",
       "      <td>0.135650</td>\n",
       "      <td>350.0</td>\n",
       "    </tr>\n",
       "    <tr>\n",
       "      <th>9996</th>\n",
       "      <td>41.521546</td>\n",
       "      <td>20.539216</td>\n",
       "      <td>9.0</td>\n",
       "      <td>0.000000</td>\n",
       "      <td>NaN</td>\n",
       "    </tr>\n",
       "    <tr>\n",
       "      <th>9997</th>\n",
       "      <td>47.939008</td>\n",
       "      <td>NaN</td>\n",
       "      <td>1.0</td>\n",
       "      <td>0.072158</td>\n",
       "      <td>NaN</td>\n",
       "    </tr>\n",
       "    <tr>\n",
       "      <th>9998</th>\n",
       "      <td>43.602562</td>\n",
       "      <td>33.840147</td>\n",
       "      <td>8.0</td>\n",
       "      <td>0.307467</td>\n",
       "      <td>325.0</td>\n",
       "    </tr>\n",
       "    <tr>\n",
       "      <th>9999</th>\n",
       "      <td>38.666645</td>\n",
       "      <td>21.157874</td>\n",
       "      <td>8.0</td>\n",
       "      <td>0.000000</td>\n",
       "      <td>30.0</td>\n",
       "    </tr>\n",
       "  </tbody>\n",
       "</table>\n",
       "<p>9417 rows × 5 columns</p>\n",
       "</div>"
      ],
      "text/plain": [
       "         Square  LifeSquare  KitchenSquare  Ecology_1  Healthcare_1\n",
       "0     47.981561   29.442751            6.0   0.089040           NaN\n",
       "1     65.683640   40.049543            8.0   0.000070         240.0\n",
       "2     44.947953   29.197612            0.0   0.049637         229.0\n",
       "3     53.352981   52.731512            9.0   0.437885        1084.0\n",
       "4     39.649192   23.776169            7.0   0.012339        2078.0\n",
       "...         ...         ...            ...        ...           ...\n",
       "9995  50.401785   30.476203            5.0   0.135650         350.0\n",
       "9996  41.521546   20.539216            9.0   0.000000           NaN\n",
       "9997  47.939008         NaN            1.0   0.072158           NaN\n",
       "9998  43.602562   33.840147            8.0   0.307467         325.0\n",
       "9999  38.666645   21.157874            8.0   0.000000          30.0\n",
       "\n",
       "[9417 rows x 5 columns]"
      ]
     },
     "execution_count": 922,
     "metadata": {},
     "output_type": "execute_result"
    }
   ],
   "source": [
    "\n",
    "X"
   ]
  },
  {
   "cell_type": "code",
   "execution_count": 923,
   "id": "73c049d1",
   "metadata": {},
   "outputs": [
    {
     "data": {
      "text/html": [
       "<div>\n",
       "<style scoped>\n",
       "    .dataframe tbody tr th:only-of-type {\n",
       "        vertical-align: middle;\n",
       "    }\n",
       "\n",
       "    .dataframe tbody tr th {\n",
       "        vertical-align: top;\n",
       "    }\n",
       "\n",
       "    .dataframe thead th {\n",
       "        text-align: right;\n",
       "    }\n",
       "</style>\n",
       "<table border=\"1\" class=\"dataframe\">\n",
       "  <thead>\n",
       "    <tr style=\"text-align: right;\">\n",
       "      <th></th>\n",
       "      <th>Square</th>\n",
       "      <th>LifeSquare</th>\n",
       "      <th>KitchenSquare</th>\n",
       "      <th>Ecology_1</th>\n",
       "      <th>Healthcare_1</th>\n",
       "    </tr>\n",
       "  </thead>\n",
       "  <tbody>\n",
       "    <tr>\n",
       "      <th>1</th>\n",
       "      <td>65.683640</td>\n",
       "      <td>40.049543</td>\n",
       "      <td>8.0</td>\n",
       "      <td>0.000070</td>\n",
       "      <td>240.0</td>\n",
       "    </tr>\n",
       "    <tr>\n",
       "      <th>2</th>\n",
       "      <td>44.947953</td>\n",
       "      <td>29.197612</td>\n",
       "      <td>0.0</td>\n",
       "      <td>0.049637</td>\n",
       "      <td>229.0</td>\n",
       "    </tr>\n",
       "    <tr>\n",
       "      <th>3</th>\n",
       "      <td>53.352981</td>\n",
       "      <td>52.731512</td>\n",
       "      <td>9.0</td>\n",
       "      <td>0.437885</td>\n",
       "      <td>1084.0</td>\n",
       "    </tr>\n",
       "    <tr>\n",
       "      <th>4</th>\n",
       "      <td>39.649192</td>\n",
       "      <td>23.776169</td>\n",
       "      <td>7.0</td>\n",
       "      <td>0.012339</td>\n",
       "      <td>2078.0</td>\n",
       "    </tr>\n",
       "    <tr>\n",
       "      <th>5</th>\n",
       "      <td>80.384479</td>\n",
       "      <td>46.683720</td>\n",
       "      <td>12.0</td>\n",
       "      <td>0.309479</td>\n",
       "      <td>990.0</td>\n",
       "    </tr>\n",
       "    <tr>\n",
       "      <th>...</th>\n",
       "      <td>...</td>\n",
       "      <td>...</td>\n",
       "      <td>...</td>\n",
       "      <td>...</td>\n",
       "      <td>...</td>\n",
       "    </tr>\n",
       "    <tr>\n",
       "      <th>9990</th>\n",
       "      <td>57.373889</td>\n",
       "      <td>39.688445</td>\n",
       "      <td>5.0</td>\n",
       "      <td>0.036270</td>\n",
       "      <td>200.0</td>\n",
       "    </tr>\n",
       "    <tr>\n",
       "      <th>9991</th>\n",
       "      <td>101.622794</td>\n",
       "      <td>51.628780</td>\n",
       "      <td>12.0</td>\n",
       "      <td>0.265089</td>\n",
       "      <td>1937.0</td>\n",
       "    </tr>\n",
       "    <tr>\n",
       "      <th>9995</th>\n",
       "      <td>50.401785</td>\n",
       "      <td>30.476203</td>\n",
       "      <td>5.0</td>\n",
       "      <td>0.135650</td>\n",
       "      <td>350.0</td>\n",
       "    </tr>\n",
       "    <tr>\n",
       "      <th>9998</th>\n",
       "      <td>43.602562</td>\n",
       "      <td>33.840147</td>\n",
       "      <td>8.0</td>\n",
       "      <td>0.307467</td>\n",
       "      <td>325.0</td>\n",
       "    </tr>\n",
       "    <tr>\n",
       "      <th>9999</th>\n",
       "      <td>38.666645</td>\n",
       "      <td>21.157874</td>\n",
       "      <td>8.0</td>\n",
       "      <td>0.000000</td>\n",
       "      <td>30.0</td>\n",
       "    </tr>\n",
       "  </tbody>\n",
       "</table>\n",
       "<p>4082 rows × 5 columns</p>\n",
       "</div>"
      ],
      "text/plain": [
       "          Square  LifeSquare  KitchenSquare  Ecology_1  Healthcare_1\n",
       "1      65.683640   40.049543            8.0   0.000070         240.0\n",
       "2      44.947953   29.197612            0.0   0.049637         229.0\n",
       "3      53.352981   52.731512            9.0   0.437885        1084.0\n",
       "4      39.649192   23.776169            7.0   0.012339        2078.0\n",
       "5      80.384479   46.683720           12.0   0.309479         990.0\n",
       "...          ...         ...            ...        ...           ...\n",
       "9990   57.373889   39.688445            5.0   0.036270         200.0\n",
       "9991  101.622794   51.628780           12.0   0.265089        1937.0\n",
       "9995   50.401785   30.476203            5.0   0.135650         350.0\n",
       "9998   43.602562   33.840147            8.0   0.307467         325.0\n",
       "9999   38.666645   21.157874            8.0   0.000000          30.0\n",
       "\n",
       "[4082 rows x 5 columns]"
      ]
     },
     "execution_count": 923,
     "metadata": {},
     "output_type": "execute_result"
    }
   ],
   "source": [
    "# УДАЛЯЕМ СТРОКИ С ПРОПУЩЕННЫМИ ЗНАЧЕНИЯМИ\n",
    "X = X.dropna()\n",
    "X"
   ]
  },
  {
   "cell_type": "code",
   "execution_count": 924,
   "id": "d9a1113f",
   "metadata": {
    "scrolled": true
   },
   "outputs": [],
   "source": [
    "\n",
    "vif=pd.DataFrame()\n",
    "vif['признак']=X.columns\n",
    "vif['VIF']=[variance_inflation_factor(X.values, i) for i in range(X.shape[1])]"
   ]
  },
  {
   "cell_type": "code",
   "execution_count": 925,
   "id": "b6655d4e",
   "metadata": {},
   "outputs": [
    {
     "data": {
      "text/html": [
       "<div>\n",
       "<style scoped>\n",
       "    .dataframe tbody tr th:only-of-type {\n",
       "        vertical-align: middle;\n",
       "    }\n",
       "\n",
       "    .dataframe tbody tr th {\n",
       "        vertical-align: top;\n",
       "    }\n",
       "\n",
       "    .dataframe thead th {\n",
       "        text-align: right;\n",
       "    }\n",
       "</style>\n",
       "<table border=\"1\" class=\"dataframe\">\n",
       "  <thead>\n",
       "    <tr style=\"text-align: right;\">\n",
       "      <th></th>\n",
       "      <th>признак</th>\n",
       "      <th>VIF</th>\n",
       "    </tr>\n",
       "  </thead>\n",
       "  <tbody>\n",
       "    <tr>\n",
       "      <th>0</th>\n",
       "      <td>Square</td>\n",
       "      <td>16.762855</td>\n",
       "    </tr>\n",
       "    <tr>\n",
       "      <th>1</th>\n",
       "      <td>LifeSquare</td>\n",
       "      <td>13.883403</td>\n",
       "    </tr>\n",
       "    <tr>\n",
       "      <th>2</th>\n",
       "      <td>KitchenSquare</td>\n",
       "      <td>1.053275</td>\n",
       "    </tr>\n",
       "    <tr>\n",
       "      <th>3</th>\n",
       "      <td>Ecology_1</td>\n",
       "      <td>2.024160</td>\n",
       "    </tr>\n",
       "    <tr>\n",
       "      <th>4</th>\n",
       "      <td>Healthcare_1</td>\n",
       "      <td>1.979128</td>\n",
       "    </tr>\n",
       "  </tbody>\n",
       "</table>\n",
       "</div>"
      ],
      "text/plain": [
       "         признак        VIF\n",
       "0         Square  16.762855\n",
       "1     LifeSquare  13.883403\n",
       "2  KitchenSquare   1.053275\n",
       "3      Ecology_1   2.024160\n",
       "4   Healthcare_1   1.979128"
      ]
     },
     "execution_count": 925,
     "metadata": {},
     "output_type": "execute_result"
    }
   ],
   "source": [
    "vif"
   ]
  },
  {
   "cell_type": "code",
   "execution_count": 926,
   "id": "068f78d7",
   "metadata": {},
   "outputs": [
    {
     "data": {
      "text/html": [
       "<div>\n",
       "<style scoped>\n",
       "    .dataframe tbody tr th:only-of-type {\n",
       "        vertical-align: middle;\n",
       "    }\n",
       "\n",
       "    .dataframe tbody tr th {\n",
       "        vertical-align: top;\n",
       "    }\n",
       "\n",
       "    .dataframe thead th {\n",
       "        text-align: right;\n",
       "    }\n",
       "</style>\n",
       "<table border=\"1\" class=\"dataframe\">\n",
       "  <thead>\n",
       "    <tr style=\"text-align: right;\">\n",
       "      <th></th>\n",
       "      <th>Square</th>\n",
       "      <th>LifeSquare</th>\n",
       "      <th>KitchenSquare</th>\n",
       "      <th>Ecology_1</th>\n",
       "      <th>Healthcare_1</th>\n",
       "    </tr>\n",
       "  </thead>\n",
       "  <tbody>\n",
       "    <tr>\n",
       "      <th>Square</th>\n",
       "      <td>1.000000</td>\n",
       "      <td>0.841837</td>\n",
       "      <td>0.009027</td>\n",
       "      <td>-0.001245</td>\n",
       "      <td>-0.068295</td>\n",
       "    </tr>\n",
       "    <tr>\n",
       "      <th>LifeSquare</th>\n",
       "      <td>0.841837</td>\n",
       "      <td>1.000000</td>\n",
       "      <td>-0.005984</td>\n",
       "      <td>0.021139</td>\n",
       "      <td>-0.054308</td>\n",
       "    </tr>\n",
       "    <tr>\n",
       "      <th>KitchenSquare</th>\n",
       "      <td>0.009027</td>\n",
       "      <td>-0.005984</td>\n",
       "      <td>1.000000</td>\n",
       "      <td>-0.023979</td>\n",
       "      <td>-0.006467</td>\n",
       "    </tr>\n",
       "    <tr>\n",
       "      <th>Ecology_1</th>\n",
       "      <td>-0.001245</td>\n",
       "      <td>0.021139</td>\n",
       "      <td>-0.023979</td>\n",
       "      <td>1.000000</td>\n",
       "      <td>-0.007977</td>\n",
       "    </tr>\n",
       "    <tr>\n",
       "      <th>Healthcare_1</th>\n",
       "      <td>-0.068295</td>\n",
       "      <td>-0.054308</td>\n",
       "      <td>-0.006467</td>\n",
       "      <td>-0.007977</td>\n",
       "      <td>1.000000</td>\n",
       "    </tr>\n",
       "  </tbody>\n",
       "</table>\n",
       "</div>"
      ],
      "text/plain": [
       "                 Square  LifeSquare  KitchenSquare  Ecology_1  Healthcare_1\n",
       "Square         1.000000    0.841837       0.009027  -0.001245     -0.068295\n",
       "LifeSquare     0.841837    1.000000      -0.005984   0.021139     -0.054308\n",
       "KitchenSquare  0.009027   -0.005984       1.000000  -0.023979     -0.006467\n",
       "Ecology_1     -0.001245    0.021139      -0.023979   1.000000     -0.007977\n",
       "Healthcare_1  -0.068295   -0.054308      -0.006467  -0.007977      1.000000"
      ]
     },
     "execution_count": 926,
     "metadata": {},
     "output_type": "execute_result"
    }
   ],
   "source": [
    "X.corr()"
   ]
  },
  {
   "cell_type": "code",
   "execution_count": 927,
   "id": "0680e67a",
   "metadata": {},
   "outputs": [
    {
     "name": "stdout",
     "output_type": "stream",
     "text": [
      "                            OLS Regression Results                            \n",
      "==============================================================================\n",
      "Dep. Variable:                  Price   R-squared:                       0.223\n",
      "Model:                            OLS   Adj. R-squared:                  0.222\n",
      "Method:                 Least Squares   F-statistic:                     233.5\n",
      "Date:                Thu, 09 Nov 2023   Prob (F-statistic):          8.08e-220\n",
      "Time:                        20:51:58   Log-Likelihood:                -50723.\n",
      "No. Observations:                4082   AIC:                         1.015e+05\n",
      "Df Residuals:                    4076   BIC:                         1.015e+05\n",
      "Df Model:                           5                                         \n",
      "Covariance Type:            nonrobust                                         \n",
      "=================================================================================\n",
      "                    coef    std err          t      P>|t|      [0.025      0.975]\n",
      "---------------------------------------------------------------------------------\n",
      "Intercept      1.288e+05   3330.782     38.659      0.000    1.22e+05    1.35e+05\n",
      "Square         2298.1681     91.511     25.114      0.000    2118.756    2477.580\n",
      "LifeSquare    -1001.4568     95.528    -10.483      0.000   -1188.744    -814.169\n",
      "KitchenSquare   -10.8081     30.538     -0.354      0.723     -70.679      49.063\n",
      "Ecology_1     -7.686e+04   7500.056    -10.248      0.000   -9.16e+04   -6.22e+04\n",
      "Healthcare_1      7.0409      0.911      7.725      0.000       5.254       8.828\n",
      "==============================================================================\n",
      "Omnibus:                     1056.212   Durbin-Watson:                   2.028\n",
      "Prob(Omnibus):                  0.000   Jarque-Bera (JB):            21247.899\n",
      "Skew:                          -0.728   Prob(JB):                         0.00\n",
      "Kurtosis:                      14.082   Cond. No.                     1.27e+04\n",
      "==============================================================================\n",
      "\n",
      "Notes:\n",
      "[1] Standard Errors assume that the covariance matrix of the errors is correctly specified.\n",
      "[2] The condition number is large, 1.27e+04. This might indicate that there are\n",
      "strong multicollinearity or other numerical problems.\n"
     ]
    }
   ],
   "source": [
    "m1=smf.ols('Price~ Square+LifeSquare+KitchenSquare+'\\\n",
    "          'Ecology_1+Healthcare_1',\n",
    "          data=numeric_features)\n",
    "fitted=m1.fit()\n",
    "print(fitted.summary())\n"
   ]
  },
  {
   "cell_type": "code",
   "execution_count": 928,
   "id": "10d54ca2",
   "metadata": {},
   "outputs": [
    {
     "data": {
      "text/plain": [
       "14841951811054.67"
      ]
     },
     "execution_count": 928,
     "metadata": {},
     "output_type": "execute_result"
    }
   ],
   "source": [
    "np.sum((fitted.resid)**2)"
   ]
  },
  {
   "cell_type": "code",
   "execution_count": 929,
   "id": "b29572fc",
   "metadata": {},
   "outputs": [
    {
     "name": "stdout",
     "output_type": "stream",
     "text": [
      "                            OLS Regression Results                            \n",
      "==============================================================================\n",
      "Dep. Variable:                  Price   R-squared:                       0.200\n",
      "Model:                            OLS   Adj. R-squared:                  0.200\n",
      "Method:                 Least Squares   F-statistic:                     460.2\n",
      "Date:                Thu, 09 Nov 2023   Prob (F-statistic):               0.00\n",
      "Time:                        20:51:58   Log-Likelihood:                -91634.\n",
      "No. Observations:                7356   AIC:                         1.833e+05\n",
      "Df Residuals:                    7351   BIC:                         1.833e+05\n",
      "Df Model:                           4                                         \n",
      "Covariance Type:            nonrobust                                         \n",
      "=================================================================================\n",
      "                    coef    std err          t      P>|t|      [0.025      0.975]\n",
      "---------------------------------------------------------------------------------\n",
      "Intercept      1.191e+05   2356.090     50.561      0.000    1.15e+05    1.24e+05\n",
      "Square         1680.2248     39.681     42.343      0.000    1602.438    1758.011\n",
      "LifeSquare      -20.3340      8.311     -2.447      0.014     -36.625      -4.043\n",
      "KitchenSquare    -8.0650     21.929     -0.368      0.713     -51.053      34.923\n",
      "Ecology_1     -1.416e+04   6006.669     -2.357      0.018   -2.59e+04   -2383.176\n",
      "==============================================================================\n",
      "Omnibus:                     1989.808   Durbin-Watson:                   1.994\n",
      "Prob(Omnibus):                  0.000   Jarque-Bera (JB):            54134.820\n",
      "Skew:                          -0.701   Prob(JB):                         0.00\n",
      "Kurtosis:                      16.216   Cond. No.                         834.\n",
      "==============================================================================\n",
      "\n",
      "Notes:\n",
      "[1] Standard Errors assume that the covariance matrix of the errors is correctly specified.\n"
     ]
    }
   ],
   "source": [
    "#уберем Healthcare_1 и multicollinearity  пропадет\n",
    "m1=smf.ols('Price~ Square+LifeSquare+KitchenSquare+'\\\n",
    "          'Ecology_1',\n",
    "          data=numeric_features)\n",
    "fitted=m1.fit()\n",
    "print(fitted.summary())\n"
   ]
  },
  {
   "cell_type": "code",
   "execution_count": 930,
   "id": "4254a6e1",
   "metadata": {},
   "outputs": [
    {
     "data": {
      "text/plain": [
       "28458103749801.305"
      ]
     },
     "execution_count": 930,
     "metadata": {},
     "output_type": "execute_result"
    }
   ],
   "source": [
    "np.sum((fitted.resid)**2)"
   ]
  },
  {
   "cell_type": "code",
   "execution_count": 931,
   "id": "67e88c2a",
   "metadata": {},
   "outputs": [
    {
     "name": "stdout",
     "output_type": "stream",
     "text": [
      "                            OLS Regression Results                            \n",
      "==============================================================================\n",
      "Dep. Variable:                  Price   R-squared:                       0.200\n",
      "Model:                            OLS   Adj. R-squared:                  0.200\n",
      "Method:                 Least Squares   F-statistic:                     613.6\n",
      "Date:                Thu, 09 Nov 2023   Prob (F-statistic):               0.00\n",
      "Time:                        20:51:59   Log-Likelihood:                -91634.\n",
      "No. Observations:                7356   AIC:                         1.833e+05\n",
      "Df Residuals:                    7352   BIC:                         1.833e+05\n",
      "Df Model:                           3                                         \n",
      "Covariance Type:            nonrobust                                         \n",
      "==============================================================================\n",
      "                 coef    std err          t      P>|t|      [0.025      0.975]\n",
      "------------------------------------------------------------------------------\n",
      "Intercept   1.191e+05   2351.210     50.642      0.000    1.14e+05    1.24e+05\n",
      "Square      1680.0565     39.676     42.344      0.000    1602.280    1757.833\n",
      "LifeSquare   -20.3194      8.310     -2.445      0.015     -36.609      -4.030\n",
      "Ecology_1  -1.413e+04   6005.880     -2.353      0.019   -2.59e+04   -2358.141\n",
      "==============================================================================\n",
      "Omnibus:                     1989.676   Durbin-Watson:                   1.994\n",
      "Prob(Omnibus):                  0.000   Jarque-Bera (JB):            54103.673\n",
      "Skew:                          -0.701   Prob(JB):                         0.00\n",
      "Kurtosis:                      16.212   Cond. No.                         833.\n",
      "==============================================================================\n",
      "\n",
      "Notes:\n",
      "[1] Standard Errors assume that the covariance matrix of the errors is correctly specified.\n"
     ]
    }
   ],
   "source": [
    "#уберем незначимую KitchenSquare\n",
    "m1=smf.ols('Price~ Square+LifeSquare+'\\\n",
    "          'Ecology_1',\n",
    "          data=numeric_features)\n",
    "fitted=m1.fit()\n",
    "print(fitted.summary())\n"
   ]
  },
  {
   "cell_type": "code",
   "execution_count": 932,
   "id": "3ca614de",
   "metadata": {},
   "outputs": [
    {
     "data": {
      "text/plain": [
       "28458627366845.33"
      ]
     },
     "execution_count": 932,
     "metadata": {},
     "output_type": "execute_result"
    }
   ],
   "source": [
    "np.sum((fitted.resid)**2)"
   ]
  },
  {
   "cell_type": "markdown",
   "id": "f2bf9211",
   "metadata": {},
   "source": [
    "# анализ ошибок"
   ]
  },
  {
   "cell_type": "code",
   "execution_count": 933,
   "id": "d1915458",
   "metadata": {},
   "outputs": [
    {
     "data": {
      "text/plain": [
       "7125615406962.9375"
      ]
     },
     "execution_count": 933,
     "metadata": {},
     "output_type": "execute_result"
    }
   ],
   "source": [
    "fitted.ess"
   ]
  },
  {
   "cell_type": "code",
   "execution_count": 934,
   "id": "0e8fb87e",
   "metadata": {},
   "outputs": [
    {
     "data": {
      "text/plain": [
       "35584242773808.266"
      ]
     },
     "execution_count": 934,
     "metadata": {},
     "output_type": "execute_result"
    }
   ],
   "source": [
    "fitted.centered_tss"
   ]
  },
  {
   "cell_type": "code",
   "execution_count": 935,
   "id": "8c3a582e",
   "metadata": {},
   "outputs": [
    {
     "data": {
      "text/plain": [
       "0.20024636894079806"
      ]
     },
     "execution_count": 935,
     "metadata": {},
     "output_type": "execute_result"
    }
   ],
   "source": [
    "R_sqd=fitted.ess/fitted.centered_tss\n",
    "R_sqd"
   ]
  },
  {
   "cell_type": "code",
   "execution_count": 937,
   "id": "7c70667e",
   "metadata": {},
   "outputs": [
    {
     "data": {
      "text/plain": [
       "0       197825.580563\n",
       "1       228607.815438\n",
       "2       193290.739398\n",
       "3       201446.984190\n",
       "4       185025.760016\n",
       "            ...      \n",
       "9993    252258.839325\n",
       "9995    201212.029138\n",
       "9996    188411.559088\n",
       "9998    187292.584957\n",
       "9999    183602.593370\n",
       "Length: 7356, dtype: float64"
      ]
     },
     "execution_count": 937,
     "metadata": {},
     "output_type": "execute_result"
    }
   ],
   "source": [
    "fitted.fittedvalues"
   ]
  },
  {
   "cell_type": "code",
   "execution_count": 938,
   "id": "f78e86a4",
   "metadata": {},
   "outputs": [
    {
     "data": {
      "text/plain": [
       "0      -12858.649833\n",
       "1       71401.634624\n",
       "2       27635.169126\n",
       "3      -25830.756973\n",
       "4      -34799.228372\n",
       "            ...     \n",
       "9995             NaN\n",
       "9996             NaN\n",
       "9997             NaN\n",
       "9998             NaN\n",
       "9999             NaN\n",
       "Length: 9417, dtype: float64"
      ]
     },
     "execution_count": 938,
     "metadata": {},
     "output_type": "execute_result"
    }
   ],
   "source": [
    "numeric_features.Price-fitted.fittedvalues"
   ]
  },
  {
   "cell_type": "code",
   "execution_count": 939,
   "id": "42f42015",
   "metadata": {},
   "outputs": [
    {
     "data": {
      "text/plain": [
       "0      -12858.649833\n",
       "1       71401.634624\n",
       "2       27635.169126\n",
       "3      -25830.756973\n",
       "4      -34799.228372\n",
       "            ...     \n",
       "9993    98425.789236\n",
       "9995    -4527.713097\n",
       "9996      638.730484\n",
       "9998    -5697.245149\n",
       "9999    35111.484245\n",
       "Length: 7356, dtype: float64"
      ]
     },
     "execution_count": 939,
     "metadata": {},
     "output_type": "execute_result"
    }
   ],
   "source": [
    "fitted.resid"
   ]
  },
  {
   "cell_type": "code",
   "execution_count": 946,
   "id": "1d32f077",
   "metadata": {},
   "outputs": [
    {
     "data": {
      "text/plain": [
       "<Axes: >"
      ]
     },
     "execution_count": 946,
     "metadata": {},
     "output_type": "execute_result"
    },
    {
     "data": {
      "image/png": "[encoded data removed]",
      "text/plain": [
       "<Figure size 640x480 with 1 Axes>"
      ]
     },
     "metadata": {},
     "output_type": "display_data"
    }
   ],
   "source": [
    "import seaborn as sns\n",
    "sns.distplot(fitted.resid, kde=False, bins=60)"
   ]
  },
  {
   "cell_type": "code",
   "execution_count": 947,
   "id": "9f96e811",
   "metadata": {},
   "outputs": [
    {
     "data": {
      "image/png": "[encoded data removed]",
      "text/plain": [
       "<Figure size 640x480 with 1 Axes>"
      ]
     },
     "metadata": {},
     "output_type": "display_data"
    }
   ],
   "source": [
    "plt.scatter(numeric_features.Price.head(len(fitted.fittedvalues)), fitted.fittedvalues, color='blue', s=40, alpha=0.45)\n",
    "plt.title('Предсказанные значения и реальные')\n",
    "plt.xlabel('Рост цены')\n",
    "plt.ylabel('Предсказанные значения роста цены')\n",
    "plt.show()"
   ]
  },
  {
   "cell_type": "code",
   "execution_count": null,
   "id": "fc7fb5a5",
   "metadata": {},
   "outputs": [],
   "source": [
    "Предсказанные значения получились в виде облачка, что говорит о точности модели"
   ]
  },
  {
   "cell_type": "code",
   "execution_count": 885,
   "id": "87f6a510",
   "metadata": {
    "scrolled": true
   },
   "outputs": [
    {
     "data": {
      "image/png": "[encoded data removed]",
      "text/plain": [
       "<Figure size 640x480 with 1 Axes>"
      ]
     },
     "metadata": {},
     "output_type": "display_data"
    }
   ],
   "source": [
    "plt.scatter(fitted.fittedvalues, fitted.resid, color='red', s=40, alpha=0.5)\n",
    "plt.title('Предсказанные значения и ошибки')\n",
    "plt.xlabel('Предсказанные значения')\n",
    "plt.ylabel('Ошибки')\n",
    "plt.show()"
   ]
  },
  {
   "cell_type": "code",
   "execution_count": null,
   "id": "0162f661",
   "metadata": {},
   "outputs": [],
   "source": [
    "ошибки расположено около нуля, что говорит о точности модели"
   ]
  },
  {
   "cell_type": "code",
   "execution_count": 949,
   "id": "2653cc8a",
   "metadata": {},
   "outputs": [
    {
     "name": "stdout",
     "output_type": "stream",
     "text": [
      "%pylab is deprecated, use %matplotlib inline and import the required libraries.\n",
      "Populating the interactive namespace from numpy and matplotlib\n"
     ]
    },
    {
     "data": {
      "image/png": "[encoded data removed]",
      "text/plain": [
       "<Figure size 640x480 with 1 Axes>"
      ]
     },
     "metadata": {},
     "output_type": "display_data"
    }
   ],
   "source": [
    "%pylab inline\n",
    "sc.stats.probplot(fitted.resid, dist='norm', plot=pylab)\n",
    "plt.show()"
   ]
  },
  {
   "cell_type": "code",
   "execution_count": null,
   "id": "a8cf86ed",
   "metadata": {},
   "outputs": [],
   "source": [
    "значения лежат вдоль нормальной прямой, что говорит о точности модели"
   ]
  },
  {
   "cell_type": "markdown",
   "id": "44a02a3e",
   "metadata": {},
   "source": [
    "# логарифмируем цену"
   ]
  },
  {
   "cell_type": "code",
   "execution_count": 950,
   "id": "14d860d1",
   "metadata": {},
   "outputs": [
    {
     "name": "stdout",
     "output_type": "stream",
     "text": [
      "                            OLS Regression Results                            \n",
      "==============================================================================\n",
      "Dep. Variable:          np.log(Price)   R-squared:                       0.155\n",
      "Model:                            OLS   Adj. R-squared:                  0.154\n",
      "Method:                 Least Squares   F-statistic:                     351.3\n",
      "Date:                Thu, 09 Nov 2023   Prob (F-statistic):          1.62e-209\n",
      "Time:                        21:04:24   Log-Likelihood:                -1622.3\n",
      "No. Observations:                5765   AIC:                             3253.\n",
      "Df Residuals:                    5761   BIC:                             3279.\n",
      "Df Model:                           3                                         \n",
      "Covariance Type:            nonrobust                                         \n",
      "==============================================================================\n",
      "                 coef    std err          t      P>|t|      [0.025      0.975]\n",
      "------------------------------------------------------------------------------\n",
      "Intercept     11.8049      0.013    877.789      0.000      11.779      11.831\n",
      "Square         0.0072      0.000     32.069      0.000       0.007       0.008\n",
      "LifeSquare -7.556e-05   4.29e-05     -1.761      0.078      -0.000    8.58e-06\n",
      "Ecology_1     -0.0601      0.035     -1.719      0.086      -0.129       0.008\n",
      "==============================================================================\n",
      "Omnibus:                     2103.108   Durbin-Watson:                   1.991\n",
      "Prob(Omnibus):                  0.000   Jarque-Bera (JB):            24672.671\n",
      "Skew:                          -1.405   Prob(JB):                         0.00\n",
      "Kurtosis:                      12.737   Cond. No.                         912.\n",
      "==============================================================================\n",
      "\n",
      "Notes:\n",
      "[1] Standard Errors assume that the covariance matrix of the errors is correctly specified.\n"
     ]
    }
   ],
   "source": [
    "#уберем незначимую KitchenSquare\n",
    "m1=smf.ols('np.log(Price)~ Square+LifeSquare+'\\\n",
    "          'Ecology_1',\n",
    "          data=numeric_features)\n",
    "fitted=m1.fit()\n",
    "print(fitted.summary())\n"
   ]
  },
  {
   "cell_type": "code",
   "execution_count": 951,
   "id": "1c1bc227",
   "metadata": {},
   "outputs": [
    {
     "data": {
      "text/plain": [
       "<Axes: >"
      ]
     },
     "execution_count": 951,
     "metadata": {},
     "output_type": "execute_result"
    },
    {
     "data": {
      "image/png": "[encoded data removed]",
      "text/plain": [
       "<Figure size 640x480 with 1 Axes>"
      ]
     },
     "metadata": {},
     "output_type": "display_data"
    }
   ],
   "source": [
    "sns.distplot(fitted.resid, kde=False, bins=60)"
   ]
  },
  {
   "cell_type": "code",
   "execution_count": 953,
   "id": "8c6173be",
   "metadata": {},
   "outputs": [
    {
     "data": {
      "image/png": "[encoded data removed]",
      "text/plain": [
       "<Figure size 640x480 with 1 Axes>"
      ]
     },
     "metadata": {},
     "output_type": "display_data"
    }
   ],
   "source": [
    "plt.scatter(numeric_features.Price.head(len(fitted.fittedvalues)), fitted.fittedvalues, color='blue', s=40, alpha=0.45)\n",
    "plt.title('Предсказанные значения и реальные')\n",
    "plt.xlabel('Рост цены')\n",
    "plt.ylabel('Предсказанные значения роста цены')\n",
    "plt.show()"
   ]
  },
  {
   "cell_type": "code",
   "execution_count": 954,
   "id": "9f328d7d",
   "metadata": {},
   "outputs": [
    {
     "data": {
      "image/png": "[encoded data removed]",
      "text/plain": [
       "<Figure size 640x480 with 1 Axes>"
      ]
     },
     "metadata": {},
     "output_type": "display_data"
    }
   ],
   "source": [
    "plt.scatter(fitted.fittedvalues, fitted.resid, color='red', s=40, alpha=0.5)\n",
    "plt.title('Предсказанные значения и ошибки')\n",
    "plt.xlabel('Предсказанные значения')\n",
    "plt.ylabel('Ошибки')\n",
    "plt.show()"
   ]
  },
  {
   "cell_type": "code",
   "execution_count": 955,
   "id": "8d983c7d",
   "metadata": {},
   "outputs": [
    {
     "name": "stdout",
     "output_type": "stream",
     "text": [
      "%pylab is deprecated, use %matplotlib inline and import the required libraries.\n",
      "Populating the interactive namespace from numpy and matplotlib\n"
     ]
    },
    {
     "data": {
      "image/png": "[encoded data removed]",
      "text/plain": [
       "<Figure size 640x480 with 1 Axes>"
      ]
     },
     "metadata": {},
     "output_type": "display_data"
    }
   ],
   "source": [
    "%pylab inline\n",
    "sc.stats.probplot(fitted.resid, dist='norm', plot=pylab)\n",
    "plt.show()"
   ]
  },
  {
   "cell_type": "code",
   "execution_count": null,
   "id": "8806fa06",
   "metadata": {},
   "outputs": [],
   "source": [
    "вывод: модель без лагорифма была более точной"
   ]
  },
  {
   "cell_type": "markdown",
   "id": "a0171802",
   "metadata": {},
   "source": [
    "# Переход к нормированным данным"
   ]
  },
  {
   "cell_type": "code",
   "execution_count": 990,
   "id": "299d0871",
   "metadata": {},
   "outputs": [],
   "source": [
    "numeric_features= numeric_features.dropna()"
   ]
  },
  {
   "cell_type": "code",
   "execution_count": 991,
   "id": "6fa16ecb",
   "metadata": {},
   "outputs": [],
   "source": [
    "from sklearn.linear_model import LinearRegression\n",
    "from sklearn.preprocessing import MinMaxScaler\n",
    "from sklearn.linear_model import LassoCV"
   ]
  },
  {
   "cell_type": "code",
   "execution_count": 992,
   "id": "71b10153",
   "metadata": {},
   "outputs": [],
   "source": [
    "scaler = MinMaxScaler()\n",
    "scaler.fit(numeric_features)\n",
    "data_std=scaler.transform(numeric_features)"
   ]
  },
  {
   "cell_type": "code",
   "execution_count": 993,
   "id": "3972d3e9",
   "metadata": {},
   "outputs": [
    {
     "data": {
      "text/plain": [
       "array([[9.88102858e-02, 6.22128960e-02, 7.14285714e-02, 1.52756869e-04,\n",
       "        4.35775057e-02, 7.21615035e-01],\n",
       "       [6.63330751e-02, 4.51980682e-02, 0.00000000e+00, 1.08337017e-01,\n",
       "        4.12948745e-02, 4.80692805e-01],\n",
       "       [7.94974271e-02, 8.20970559e-02, 8.03571429e-02, 9.55717207e-01,\n",
       "        2.18717576e-01, 3.42660173e-01],\n",
       "       ...,\n",
       "       [9.99836179e-02, 5.40251370e-02, 9.82142857e-02, 6.71068923e-01,\n",
       "        6.12160199e-02, 9.84206047e-01],\n",
       "       [6.38833354e-02, 3.68015720e-02, 7.14285714e-02, 2.43635114e-01,\n",
       "        4.02573148e-01, 4.73723872e-01],\n",
       "       [6.76131111e-02, 4.15382677e-02, 5.35714286e-02, 6.85163757e-01,\n",
       "        7.93733140e-01, 5.00753680e-01]])"
      ]
     },
     "execution_count": 993,
     "metadata": {},
     "output_type": "execute_result"
    }
   ],
   "source": [
    "data_std"
   ]
  },
  {
   "cell_type": "code",
   "execution_count": 994,
   "id": "b06ba905",
   "metadata": {},
   "outputs": [],
   "source": [
    "data_norm = pd.DataFrame(data_std)\n",
    "data_norm.columns=numeric_features.columns"
   ]
  },
  {
   "cell_type": "code",
   "execution_count": 995,
   "id": "cf55d4a9",
   "metadata": {},
   "outputs": [
    {
     "data": {
      "text/html": [
       "<div>\n",
       "<style scoped>\n",
       "    .dataframe tbody tr th:only-of-type {\n",
       "        vertical-align: middle;\n",
       "    }\n",
       "\n",
       "    .dataframe tbody tr th {\n",
       "        vertical-align: top;\n",
       "    }\n",
       "\n",
       "    .dataframe thead th {\n",
       "        text-align: right;\n",
       "    }\n",
       "</style>\n",
       "<table border=\"1\" class=\"dataframe\">\n",
       "  <thead>\n",
       "    <tr style=\"text-align: right;\">\n",
       "      <th></th>\n",
       "      <th>Square</th>\n",
       "      <th>LifeSquare</th>\n",
       "      <th>KitchenSquare</th>\n",
       "      <th>Ecology_1</th>\n",
       "      <th>Healthcare_1</th>\n",
       "      <th>Price</th>\n",
       "    </tr>\n",
       "  </thead>\n",
       "  <tbody>\n",
       "    <tr>\n",
       "      <th>0</th>\n",
       "      <td>0.098810</td>\n",
       "      <td>0.062213</td>\n",
       "      <td>0.071429</td>\n",
       "      <td>0.000153</td>\n",
       "      <td>0.043578</td>\n",
       "      <td>0.721615</td>\n",
       "    </tr>\n",
       "    <tr>\n",
       "      <th>1</th>\n",
       "      <td>0.066333</td>\n",
       "      <td>0.045198</td>\n",
       "      <td>0.000000</td>\n",
       "      <td>0.108337</td>\n",
       "      <td>0.041295</td>\n",
       "      <td>0.480693</td>\n",
       "    </tr>\n",
       "    <tr>\n",
       "      <th>2</th>\n",
       "      <td>0.079497</td>\n",
       "      <td>0.082097</td>\n",
       "      <td>0.080357</td>\n",
       "      <td>0.955717</td>\n",
       "      <td>0.218718</td>\n",
       "      <td>0.342660</td>\n",
       "    </tr>\n",
       "    <tr>\n",
       "      <th>3</th>\n",
       "      <td>0.058034</td>\n",
       "      <td>0.036698</td>\n",
       "      <td>0.062500</td>\n",
       "      <td>0.026931</td>\n",
       "      <td>0.424984</td>\n",
       "      <td>0.265312</td>\n",
       "    </tr>\n",
       "    <tr>\n",
       "      <th>4</th>\n",
       "      <td>0.121835</td>\n",
       "      <td>0.072615</td>\n",
       "      <td>0.107143</td>\n",
       "      <td>0.675461</td>\n",
       "      <td>0.199211</td>\n",
       "      <td>0.465377</td>\n",
       "    </tr>\n",
       "    <tr>\n",
       "      <th>...</th>\n",
       "      <td>...</td>\n",
       "      <td>...</td>\n",
       "      <td>...</td>\n",
       "      <td>...</td>\n",
       "      <td>...</td>\n",
       "      <td>...</td>\n",
       "    </tr>\n",
       "    <tr>\n",
       "      <th>3193</th>\n",
       "      <td>0.053229</td>\n",
       "      <td>0.030508</td>\n",
       "      <td>0.071429</td>\n",
       "      <td>0.084450</td>\n",
       "      <td>0.204399</td>\n",
       "      <td>0.337335</td>\n",
       "    </tr>\n",
       "    <tr>\n",
       "      <th>3194</th>\n",
       "      <td>0.068801</td>\n",
       "      <td>0.046175</td>\n",
       "      <td>0.044643</td>\n",
       "      <td>0.326658</td>\n",
       "      <td>0.841876</td>\n",
       "      <td>0.340974</td>\n",
       "    </tr>\n",
       "    <tr>\n",
       "      <th>3195</th>\n",
       "      <td>0.099984</td>\n",
       "      <td>0.054025</td>\n",
       "      <td>0.098214</td>\n",
       "      <td>0.671069</td>\n",
       "      <td>0.061216</td>\n",
       "      <td>0.984206</td>\n",
       "    </tr>\n",
       "    <tr>\n",
       "      <th>3196</th>\n",
       "      <td>0.063883</td>\n",
       "      <td>0.036802</td>\n",
       "      <td>0.071429</td>\n",
       "      <td>0.243635</td>\n",
       "      <td>0.402573</td>\n",
       "      <td>0.473724</td>\n",
       "    </tr>\n",
       "    <tr>\n",
       "      <th>3197</th>\n",
       "      <td>0.067613</td>\n",
       "      <td>0.041538</td>\n",
       "      <td>0.053571</td>\n",
       "      <td>0.685164</td>\n",
       "      <td>0.793733</td>\n",
       "      <td>0.500754</td>\n",
       "    </tr>\n",
       "  </tbody>\n",
       "</table>\n",
       "<p>3198 rows × 6 columns</p>\n",
       "</div>"
      ],
      "text/plain": [
       "        Square  LifeSquare  KitchenSquare  Ecology_1  Healthcare_1     Price\n",
       "0     0.098810    0.062213       0.071429   0.000153      0.043578  0.721615\n",
       "1     0.066333    0.045198       0.000000   0.108337      0.041295  0.480693\n",
       "2     0.079497    0.082097       0.080357   0.955717      0.218718  0.342660\n",
       "3     0.058034    0.036698       0.062500   0.026931      0.424984  0.265312\n",
       "4     0.121835    0.072615       0.107143   0.675461      0.199211  0.465377\n",
       "...        ...         ...            ...        ...           ...       ...\n",
       "3193  0.053229    0.030508       0.071429   0.084450      0.204399  0.337335\n",
       "3194  0.068801    0.046175       0.044643   0.326658      0.841876  0.340974\n",
       "3195  0.099984    0.054025       0.098214   0.671069      0.061216  0.984206\n",
       "3196  0.063883    0.036802       0.071429   0.243635      0.402573  0.473724\n",
       "3197  0.067613    0.041538       0.053571   0.685164      0.793733  0.500754\n",
       "\n",
       "[3198 rows x 6 columns]"
      ]
     },
     "execution_count": 995,
     "metadata": {},
     "output_type": "execute_result"
    }
   ],
   "source": [
    "data_norm"
   ]
  },
  {
   "cell_type": "code",
   "execution_count": 996,
   "id": "56715648",
   "metadata": {},
   "outputs": [
    {
     "name": "stdout",
     "output_type": "stream",
     "text": [
      "                            OLS Regression Results                            \n",
      "==============================================================================\n",
      "Dep. Variable:                  Price   R-squared:                       0.196\n",
      "Model:                            OLS   Adj. R-squared:                  0.195\n",
      "Method:                 Least Squares   F-statistic:                     259.9\n",
      "Date:                Thu, 09 Nov 2023   Prob (F-statistic):          6.18e-151\n",
      "Time:                        22:04:26   Log-Likelihood:                 830.23\n",
      "No. Observations:                3198   AIC:                            -1652.\n",
      "Df Residuals:                    3194   BIC:                            -1628.\n",
      "Df Model:                           3                                         \n",
      "Covariance Type:            nonrobust                                         \n",
      "==============================================================================\n",
      "                 coef    std err          t      P>|t|      [0.025      0.975]\n",
      "------------------------------------------------------------------------------\n",
      "Intercept      0.2660      0.010     26.530      0.000       0.246       0.286\n",
      "Square         4.2872      0.205     20.872      0.000       3.884       4.690\n",
      "LifeSquare    -2.0953      0.213     -9.825      0.000      -2.513      -1.677\n",
      "Ecology_1     -0.1082      0.012     -8.980      0.000      -0.132      -0.085\n",
      "==============================================================================\n",
      "Omnibus:                      641.262   Durbin-Watson:                   2.009\n",
      "Prob(Omnibus):                  0.000   Jarque-Bera (JB):             8670.533\n",
      "Skew:                          -0.556   Prob(JB):                         0.00\n",
      "Kurtosis:                      10.990   Cond. No.                         91.2\n",
      "==============================================================================\n",
      "\n",
      "Notes:\n",
      "[1] Standard Errors assume that the covariance matrix of the errors is correctly specified.\n"
     ]
    }
   ],
   "source": [
    "#уберем незначимую KitchenSquare\n",
    "m1=smf.ols('Price~ Square+LifeSquare+'\\\n",
    "          'Ecology_1',\n",
    "          data=data_norm)\n",
    "fitted=m1.fit()\n",
    "print(fitted.summary())\n"
   ]
  },
  {
   "cell_type": "code",
   "execution_count": null,
   "id": "b2e27847",
   "metadata": {},
   "outputs": [],
   "source": [
    "#после нормализации мы видимо, что самый значимый показатедь Square.\n",
    "#Из соображений логики это понятно. Чем больше квартира, тем выше цена\n"
   ]
  },
  {
   "cell_type": "markdown",
   "id": "5402b3cd",
   "metadata": {},
   "source": [
    "# Тесты на гетероскедастичность"
   ]
  },
  {
   "cell_type": "code",
   "execution_count": null,
   "id": "a44857a5",
   "metadata": {},
   "outputs": [],
   "source": [
    "#Используем критерий Бройша-Пагана для проверки гомоскедастичности ошибок"
   ]
  },
  {
   "cell_type": "code",
   "execution_count": 997,
   "id": "87fd4a28",
   "metadata": {},
   "outputs": [],
   "source": [
    "test_BP=sms.het_breuschpagan(fitted.resid, fitted.model.exog)"
   ]
  },
  {
   "cell_type": "code",
   "execution_count": 998,
   "id": "374be269",
   "metadata": {},
   "outputs": [
    {
     "data": {
      "text/plain": [
       "(1428.4576132738928, 1.9681034085158e-309, 859.4488705143037, 0.0)"
      ]
     },
     "execution_count": 998,
     "metadata": {},
     "output_type": "execute_result"
    }
   ],
   "source": [
    "test_BP"
   ]
  },
  {
   "cell_type": "code",
   "execution_count": null,
   "id": "cb78d360",
   "metadata": {},
   "outputs": [],
   "source": [
    "# 1. Lagrange multiplier statistisc\n",
    "# 2. p-value\n",
    "# 3. f-value\n",
    "# 4. f-p value"
   ]
  },
  {
   "cell_type": "code",
   "execution_count": 999,
   "id": "ba10927b",
   "metadata": {},
   "outputs": [
    {
     "data": {
      "text/plain": [
       "1.9681034085158e-309"
      ]
     },
     "execution_count": 999,
     "metadata": {},
     "output_type": "execute_result"
    }
   ],
   "source": [
    "sms.het_breuschpagan(fitted.resid, fitted.model.exog)[1]"
   ]
  },
  {
   "cell_type": "code",
   "execution_count": null,
   "id": "065c82f7",
   "metadata": {},
   "outputs": [],
   "source": [
    "# Отвергаем нулевую гипотезу - ошибки гетероскедастичны"
   ]
  },
  {
   "cell_type": "code",
   "execution_count": null,
   "id": "b0506131",
   "metadata": {},
   "outputs": [],
   "source": [
    "# Используем тест Уайта для проверки гомоскедастичности ошибок"
   ]
  },
  {
   "cell_type": "code",
   "execution_count": null,
   "id": "4f224679",
   "metadata": {},
   "outputs": [],
   "source": [
    "sms.diagnostic.het_white(fitted.resid, fitted.model.exog)"
   ]
  },
  {
   "cell_type": "code",
   "execution_count": null,
   "id": "881560fd",
   "metadata": {},
   "outputs": [],
   "source": [
    "# Гетероскедастичность снова есть"
   ]
  },
  {
   "cell_type": "code",
   "execution_count": null,
   "id": "c56af130",
   "metadata": {},
   "outputs": [],
   "source": [
    "#Делаем поправку Уайта"
   ]
  },
  {
   "cell_type": "code",
   "execution_count": 1001,
   "id": "6eb10803",
   "metadata": {},
   "outputs": [
    {
     "name": "stdout",
     "output_type": "stream",
     "text": [
      "                            OLS Regression Results                            \n",
      "==============================================================================\n",
      "Dep. Variable:                  Price   R-squared:                       0.196\n",
      "Model:                            OLS   Adj. R-squared:                  0.195\n",
      "Method:                 Least Squares   F-statistic:                     94.68\n",
      "Date:                Thu, 09 Nov 2023   Prob (F-statistic):           1.06e-58\n",
      "Time:                        22:10:39   Log-Likelihood:                 830.23\n",
      "No. Observations:                3198   AIC:                            -1652.\n",
      "Df Residuals:                    3194   BIC:                            -1628.\n",
      "Df Model:                           3                                         \n",
      "Covariance Type:                  HC1                                         \n",
      "==============================================================================\n",
      "                 coef    std err          z      P>|z|      [0.025      0.975]\n",
      "------------------------------------------------------------------------------\n",
      "Intercept      0.2660      0.047      5.655      0.000       0.174       0.358\n",
      "Square         4.2872      0.353     12.143      0.000       3.595       4.979\n",
      "LifeSquare    -2.0953      0.658     -3.183      0.001      -3.385      -0.805\n",
      "Ecology_1     -0.1082      0.012     -9.020      0.000      -0.132      -0.085\n",
      "==============================================================================\n",
      "Omnibus:                      641.262   Durbin-Watson:                   2.009\n",
      "Prob(Omnibus):                  0.000   Jarque-Bera (JB):             8670.533\n",
      "Skew:                          -0.556   Prob(JB):                         0.00\n",
      "Kurtosis:                      10.990   Cond. No.                         91.2\n",
      "==============================================================================\n",
      "\n",
      "Notes:\n",
      "[1] Standard Errors are heteroscedasticity robust (HC1)\n"
     ]
    }
   ],
   "source": [
    "#уберем незначимую KitchenSquare\n",
    "m1=smf.ols('Price~ Square+LifeSquare+'\\\n",
    "          'Ecology_1',\n",
    "          data=data_norm)\n",
    "fitted=m1.fit(cov_type='HC1')\n",
    "print(fitted.summary())\n"
   ]
  },
  {
   "cell_type": "code",
   "execution_count": null,
   "id": "e5e87319",
   "metadata": {},
   "outputs": [],
   "source": [
    "# Пока считаем это лучшей моделью"
   ]
  },
  {
   "cell_type": "markdown",
   "id": "f759fdae",
   "metadata": {},
   "source": [
    "# Регуляризация"
   ]
  },
  {
   "cell_type": "code",
   "execution_count": 1003,
   "id": "57b0bcf1",
   "metadata": {},
   "outputs": [],
   "source": [
    "X_norm=data_norm.drop(columns='Price')"
   ]
  },
  {
   "cell_type": "code",
   "execution_count": 1004,
   "id": "4e7e7654",
   "metadata": {},
   "outputs": [
    {
     "data": {
      "text/html": [
       "<div>\n",
       "<style scoped>\n",
       "    .dataframe tbody tr th:only-of-type {\n",
       "        vertical-align: middle;\n",
       "    }\n",
       "\n",
       "    .dataframe tbody tr th {\n",
       "        vertical-align: top;\n",
       "    }\n",
       "\n",
       "    .dataframe thead th {\n",
       "        text-align: right;\n",
       "    }\n",
       "</style>\n",
       "<table border=\"1\" class=\"dataframe\">\n",
       "  <thead>\n",
       "    <tr style=\"text-align: right;\">\n",
       "      <th></th>\n",
       "      <th>Square</th>\n",
       "      <th>LifeSquare</th>\n",
       "      <th>KitchenSquare</th>\n",
       "      <th>Ecology_1</th>\n",
       "      <th>Healthcare_1</th>\n",
       "    </tr>\n",
       "  </thead>\n",
       "  <tbody>\n",
       "    <tr>\n",
       "      <th>0</th>\n",
       "      <td>0.098810</td>\n",
       "      <td>0.062213</td>\n",
       "      <td>0.071429</td>\n",
       "      <td>0.000153</td>\n",
       "      <td>0.043578</td>\n",
       "    </tr>\n",
       "    <tr>\n",
       "      <th>1</th>\n",
       "      <td>0.066333</td>\n",
       "      <td>0.045198</td>\n",
       "      <td>0.000000</td>\n",
       "      <td>0.108337</td>\n",
       "      <td>0.041295</td>\n",
       "    </tr>\n",
       "    <tr>\n",
       "      <th>2</th>\n",
       "      <td>0.079497</td>\n",
       "      <td>0.082097</td>\n",
       "      <td>0.080357</td>\n",
       "      <td>0.955717</td>\n",
       "      <td>0.218718</td>\n",
       "    </tr>\n",
       "    <tr>\n",
       "      <th>3</th>\n",
       "      <td>0.058034</td>\n",
       "      <td>0.036698</td>\n",
       "      <td>0.062500</td>\n",
       "      <td>0.026931</td>\n",
       "      <td>0.424984</td>\n",
       "    </tr>\n",
       "    <tr>\n",
       "      <th>4</th>\n",
       "      <td>0.121835</td>\n",
       "      <td>0.072615</td>\n",
       "      <td>0.107143</td>\n",
       "      <td>0.675461</td>\n",
       "      <td>0.199211</td>\n",
       "    </tr>\n",
       "    <tr>\n",
       "      <th>...</th>\n",
       "      <td>...</td>\n",
       "      <td>...</td>\n",
       "      <td>...</td>\n",
       "      <td>...</td>\n",
       "      <td>...</td>\n",
       "    </tr>\n",
       "    <tr>\n",
       "      <th>3193</th>\n",
       "      <td>0.053229</td>\n",
       "      <td>0.030508</td>\n",
       "      <td>0.071429</td>\n",
       "      <td>0.084450</td>\n",
       "      <td>0.204399</td>\n",
       "    </tr>\n",
       "    <tr>\n",
       "      <th>3194</th>\n",
       "      <td>0.068801</td>\n",
       "      <td>0.046175</td>\n",
       "      <td>0.044643</td>\n",
       "      <td>0.326658</td>\n",
       "      <td>0.841876</td>\n",
       "    </tr>\n",
       "    <tr>\n",
       "      <th>3195</th>\n",
       "      <td>0.099984</td>\n",
       "      <td>0.054025</td>\n",
       "      <td>0.098214</td>\n",
       "      <td>0.671069</td>\n",
       "      <td>0.061216</td>\n",
       "    </tr>\n",
       "    <tr>\n",
       "      <th>3196</th>\n",
       "      <td>0.063883</td>\n",
       "      <td>0.036802</td>\n",
       "      <td>0.071429</td>\n",
       "      <td>0.243635</td>\n",
       "      <td>0.402573</td>\n",
       "    </tr>\n",
       "    <tr>\n",
       "      <th>3197</th>\n",
       "      <td>0.067613</td>\n",
       "      <td>0.041538</td>\n",
       "      <td>0.053571</td>\n",
       "      <td>0.685164</td>\n",
       "      <td>0.793733</td>\n",
       "    </tr>\n",
       "  </tbody>\n",
       "</table>\n",
       "<p>3198 rows × 5 columns</p>\n",
       "</div>"
      ],
      "text/plain": [
       "        Square  LifeSquare  KitchenSquare  Ecology_1  Healthcare_1\n",
       "0     0.098810    0.062213       0.071429   0.000153      0.043578\n",
       "1     0.066333    0.045198       0.000000   0.108337      0.041295\n",
       "2     0.079497    0.082097       0.080357   0.955717      0.218718\n",
       "3     0.058034    0.036698       0.062500   0.026931      0.424984\n",
       "4     0.121835    0.072615       0.107143   0.675461      0.199211\n",
       "...        ...         ...            ...        ...           ...\n",
       "3193  0.053229    0.030508       0.071429   0.084450      0.204399\n",
       "3194  0.068801    0.046175       0.044643   0.326658      0.841876\n",
       "3195  0.099984    0.054025       0.098214   0.671069      0.061216\n",
       "3196  0.063883    0.036802       0.071429   0.243635      0.402573\n",
       "3197  0.067613    0.041538       0.053571   0.685164      0.793733\n",
       "\n",
       "[3198 rows x 5 columns]"
      ]
     },
     "execution_count": 1004,
     "metadata": {},
     "output_type": "execute_result"
    }
   ],
   "source": [
    "X_norm"
   ]
  },
  {
   "cell_type": "code",
   "execution_count": 1005,
   "id": "1be34bbc",
   "metadata": {},
   "outputs": [],
   "source": [
    "y=data_norm.Price"
   ]
  },
  {
   "cell_type": "code",
   "execution_count": 1006,
   "id": "a2ea2f92",
   "metadata": {},
   "outputs": [
    {
     "name": "stdout",
     "output_type": "stream",
     "text": [
      "-2.220446049250313e-16\n",
      "[ 2.13056574e-15 -3.55271368e-15  6.80011603e-16  1.21430643e-17\n",
      "  1.94289029e-16  1.00000000e+00]\n"
     ]
    }
   ],
   "source": [
    "model=LinearRegression()\n",
    "model.fit(data_norm, y)\n",
    "\n",
    "print (model.intercept_)\n",
    "print (model.coef_)"
   ]
  },
  {
   "cell_type": "code",
   "execution_count": 1007,
   "id": "c102f483",
   "metadata": {},
   "outputs": [
    {
     "name": "stdout",
     "output_type": "stream",
     "text": [
      "                            OLS Regression Results                            \n",
      "==============================================================================\n",
      "Dep. Variable:                      y   R-squared:                       1.000\n",
      "Model:                            OLS   Adj. R-squared:                  1.000\n",
      "Method:                 Least Squares   F-statistic:                 1.662e+32\n",
      "Date:                Thu, 09 Nov 2023   Prob (F-statistic):               0.00\n",
      "Time:                        22:12:27   Log-Likelihood:             1.0908e+05\n",
      "No. Observations:                3198   AIC:                        -2.181e+05\n",
      "Df Residuals:                    3191   BIC:                        -2.181e+05\n",
      "Df Model:                           6                                         \n",
      "Covariance Type:            nonrobust                                         \n",
      "================================================================================\n",
      "                   coef    std err          t      P>|t|      [0.025      0.975]\n",
      "--------------------------------------------------------------------------------\n",
      "Intercept    -4.684e-16   2.42e-17    -19.394      0.000   -5.16e-16   -4.21e-16\n",
      "data_norm[0]  1.166e-15   4.52e-16      2.578      0.010    2.79e-16    2.05e-15\n",
      "data_norm[1] -1.929e-15   4.42e-16     -4.368      0.000   -2.79e-15   -1.06e-15\n",
      "data_norm[2]  1.665e-16      2e-16      0.831      0.406   -2.26e-16     5.6e-16\n",
      "data_norm[3]  -3.16e-16   2.44e-17    -12.976      0.000   -3.64e-16   -2.68e-16\n",
      "data_norm[4]  1.026e-16   3.09e-17      3.316      0.001    4.19e-17    1.63e-16\n",
      "data_norm[5]     1.0000    3.6e-17   2.78e+16      0.000       1.000       1.000\n",
      "==============================================================================\n",
      "Omnibus:                       14.538   Durbin-Watson:                   0.336\n",
      "Prob(Omnibus):                  0.001   Jarque-Bera (JB):               18.200\n",
      "Skew:                           0.067   Prob(JB):                     0.000112\n",
      "Kurtosis:                       3.344   Cond. No.                         109.\n",
      "==============================================================================\n",
      "\n",
      "Notes:\n",
      "[1] Standard Errors assume that the covariance matrix of the errors is correctly specified.\n"
     ]
    }
   ],
   "source": [
    "m1=smf.ols('y~ data_norm',\n",
    "          data=data_norm)\n",
    "fitted=m1.fit()\n",
    "print(fitted.summary())"
   ]
  },
  {
   "cell_type": "code",
   "execution_count": null,
   "id": "664e59fe",
   "metadata": {},
   "outputs": [],
   "source": [
    "#Регуляризация Lasso"
   ]
  },
  {
   "cell_type": "code",
   "execution_count": 1008,
   "id": "fcee7087",
   "metadata": {},
   "outputs": [
    {
     "data": {
      "text/plain": [
       "array([ 3.74953003, -1.62937724,  0.80119808, -0.10255046,  0.10505202])"
      ]
     },
     "execution_count": 1008,
     "metadata": {},
     "output_type": "execute_result"
    }
   ],
   "source": [
    "reg1=LassoCV(cv=5, random_state=8).fit(X_norm,y)\n",
    "reg1.coef_"
   ]
  },
  {
   "cell_type": "code",
   "execution_count": 1009,
   "id": "ec7cbc95",
   "metadata": {},
   "outputs": [],
   "source": [
    "result1=pd.DataFrame(reg1.coef_)\n",
    "result1['factors']=X_norm.columns"
   ]
  },
  {
   "cell_type": "code",
   "execution_count": 1010,
   "id": "393b4ef5",
   "metadata": {},
   "outputs": [
    {
     "data": {
      "text/html": [
       "<div>\n",
       "<style scoped>\n",
       "    .dataframe tbody tr th:only-of-type {\n",
       "        vertical-align: middle;\n",
       "    }\n",
       "\n",
       "    .dataframe tbody tr th {\n",
       "        vertical-align: top;\n",
       "    }\n",
       "\n",
       "    .dataframe thead th {\n",
       "        text-align: right;\n",
       "    }\n",
       "</style>\n",
       "<table border=\"1\" class=\"dataframe\">\n",
       "  <thead>\n",
       "    <tr style=\"text-align: right;\">\n",
       "      <th></th>\n",
       "      <th>0</th>\n",
       "      <th>factors</th>\n",
       "    </tr>\n",
       "  </thead>\n",
       "  <tbody>\n",
       "    <tr>\n",
       "      <th>0</th>\n",
       "      <td>3.749530</td>\n",
       "      <td>Square</td>\n",
       "    </tr>\n",
       "    <tr>\n",
       "      <th>1</th>\n",
       "      <td>-1.629377</td>\n",
       "      <td>LifeSquare</td>\n",
       "    </tr>\n",
       "    <tr>\n",
       "      <th>2</th>\n",
       "      <td>0.801198</td>\n",
       "      <td>KitchenSquare</td>\n",
       "    </tr>\n",
       "    <tr>\n",
       "      <th>3</th>\n",
       "      <td>-0.102550</td>\n",
       "      <td>Ecology_1</td>\n",
       "    </tr>\n",
       "    <tr>\n",
       "      <th>4</th>\n",
       "      <td>0.105052</td>\n",
       "      <td>Healthcare_1</td>\n",
       "    </tr>\n",
       "  </tbody>\n",
       "</table>\n",
       "</div>"
      ],
      "text/plain": [
       "          0        factors\n",
       "0  3.749530         Square\n",
       "1 -1.629377     LifeSquare\n",
       "2  0.801198  KitchenSquare\n",
       "3 -0.102550      Ecology_1\n",
       "4  0.105052   Healthcare_1"
      ]
     },
     "execution_count": 1010,
     "metadata": {},
     "output_type": "execute_result"
    }
   ],
   "source": [
    "result1"
   ]
  },
  {
   "cell_type": "code",
   "execution_count": null,
   "id": "3a57acd1",
   "metadata": {},
   "outputs": [],
   "source": [
    "# Остались (Lasso): все "
   ]
  },
  {
   "cell_type": "code",
   "execution_count": 1011,
   "id": "961f8077",
   "metadata": {},
   "outputs": [
    {
     "data": {
      "text/plain": [
       "0.2251178898230175"
      ]
     },
     "execution_count": 1011,
     "metadata": {},
     "output_type": "execute_result"
    }
   ],
   "source": [
    "reg1.score(X_norm,y)"
   ]
  },
  {
   "cell_type": "code",
   "execution_count": 1012,
   "id": "7b3a3317",
   "metadata": {},
   "outputs": [],
   "source": [
    "from sklearn.linear_model import RidgeCV\n",
    "reg2=RidgeCV(alphas=[0.09, 0.11, 0.5, 1]).fit(X_norm,y)"
   ]
  },
  {
   "cell_type": "code",
   "execution_count": 1013,
   "id": "14b5db77",
   "metadata": {},
   "outputs": [
    {
     "name": "stdout",
     "output_type": "stream",
     "text": [
      "0.09\n"
     ]
    }
   ],
   "source": [
    "print (reg2.alpha_)"
   ]
  },
  {
   "cell_type": "code",
   "execution_count": 1014,
   "id": "4cd7f485",
   "metadata": {},
   "outputs": [
    {
     "data": {
      "text/plain": [
       "array([ 3.30465626, -1.20941536,  0.84949646, -0.10366955,  0.10395761])"
      ]
     },
     "execution_count": 1014,
     "metadata": {},
     "output_type": "execute_result"
    }
   ],
   "source": [
    "reg2.coef_"
   ]
  },
  {
   "cell_type": "code",
   "execution_count": 1015,
   "id": "5f828def",
   "metadata": {},
   "outputs": [],
   "source": [
    "result2=pd.DataFrame(reg2.coef_)\n",
    "result2['factors']=X_norm.columns"
   ]
  },
  {
   "cell_type": "code",
   "execution_count": 1016,
   "id": "48105b06",
   "metadata": {},
   "outputs": [
    {
     "data": {
      "text/html": [
       "<div>\n",
       "<style scoped>\n",
       "    .dataframe tbody tr th:only-of-type {\n",
       "        vertical-align: middle;\n",
       "    }\n",
       "\n",
       "    .dataframe tbody tr th {\n",
       "        vertical-align: top;\n",
       "    }\n",
       "\n",
       "    .dataframe thead th {\n",
       "        text-align: right;\n",
       "    }\n",
       "</style>\n",
       "<table border=\"1\" class=\"dataframe\">\n",
       "  <thead>\n",
       "    <tr style=\"text-align: right;\">\n",
       "      <th></th>\n",
       "      <th>0</th>\n",
       "      <th>factors</th>\n",
       "    </tr>\n",
       "  </thead>\n",
       "  <tbody>\n",
       "    <tr>\n",
       "      <th>0</th>\n",
       "      <td>3.304656</td>\n",
       "      <td>Square</td>\n",
       "    </tr>\n",
       "    <tr>\n",
       "      <th>1</th>\n",
       "      <td>-1.209415</td>\n",
       "      <td>LifeSquare</td>\n",
       "    </tr>\n",
       "    <tr>\n",
       "      <th>2</th>\n",
       "      <td>0.849496</td>\n",
       "      <td>KitchenSquare</td>\n",
       "    </tr>\n",
       "    <tr>\n",
       "      <th>3</th>\n",
       "      <td>-0.103670</td>\n",
       "      <td>Ecology_1</td>\n",
       "    </tr>\n",
       "    <tr>\n",
       "      <th>4</th>\n",
       "      <td>0.103958</td>\n",
       "      <td>Healthcare_1</td>\n",
       "    </tr>\n",
       "  </tbody>\n",
       "</table>\n",
       "</div>"
      ],
      "text/plain": [
       "          0        factors\n",
       "0  3.304656         Square\n",
       "1 -1.209415     LifeSquare\n",
       "2  0.849496  KitchenSquare\n",
       "3 -0.103670      Ecology_1\n",
       "4  0.103958   Healthcare_1"
      ]
     },
     "execution_count": 1016,
     "metadata": {},
     "output_type": "execute_result"
    }
   ],
   "source": [
    "result2"
   ]
  },
  {
   "cell_type": "markdown",
   "id": "cbd64b0f",
   "metadata": {},
   "source": [
    "# вывод"
   ]
  },
  {
   "cell_type": "code",
   "execution_count": null,
   "id": "de1ded8b",
   "metadata": {},
   "outputs": [],
   "source": [
    "#лучшая модель "
   ]
  },
  {
   "cell_type": "code",
   "execution_count": 1019,
   "id": "606a5271",
   "metadata": {},
   "outputs": [
    {
     "name": "stdout",
     "output_type": "stream",
     "text": [
      "                            OLS Regression Results                            \n",
      "==============================================================================\n",
      "Dep. Variable:                  Price   R-squared:                       0.196\n",
      "Model:                            OLS   Adj. R-squared:                  0.195\n",
      "Method:                 Least Squares   F-statistic:                     94.68\n",
      "Date:                Thu, 09 Nov 2023   Prob (F-statistic):           1.06e-58\n",
      "Time:                        22:20:26   Log-Likelihood:                 830.23\n",
      "No. Observations:                3198   AIC:                            -1652.\n",
      "Df Residuals:                    3194   BIC:                            -1628.\n",
      "Df Model:                           3                                         \n",
      "Covariance Type:                  HC1                                         \n",
      "==============================================================================\n",
      "                 coef    std err          z      P>|z|      [0.025      0.975]\n",
      "------------------------------------------------------------------------------\n",
      "Intercept      0.2660      0.047      5.655      0.000       0.174       0.358\n",
      "Square         4.2872      0.353     12.143      0.000       3.595       4.979\n",
      "LifeSquare    -2.0953      0.658     -3.183      0.001      -3.385      -0.805\n",
      "Ecology_1     -0.1082      0.012     -9.020      0.000      -0.132      -0.085\n",
      "==============================================================================\n",
      "Omnibus:                      641.262   Durbin-Watson:                   2.009\n",
      "Prob(Omnibus):                  0.000   Jarque-Bera (JB):             8670.533\n",
      "Skew:                          -0.556   Prob(JB):                         0.00\n",
      "Kurtosis:                      10.990   Cond. No.                         91.2\n",
      "==============================================================================\n",
      "\n",
      "Notes:\n",
      "[1] Standard Errors are heteroscedasticity robust (HC1)\n"
     ]
    }
   ],
   "source": [
    "m1=smf.ols('Price~ Square+LifeSquare+'\\\n",
    "          'Ecology_1',\n",
    "          data=data_norm)\n",
    "fitted=m1.fit(cov_type='HC1')\n",
    "print(fitted.summary())"
   ]
  },
  {
   "cell_type": "code",
   "execution_count": null,
   "id": "fd0cb7e3",
   "metadata": {},
   "outputs": [],
   "source": []
  }
 ],
 "metadata": {
  "kernelspec": {
   "display_name": "Python 3 (ipykernel)",
   "language": "python",
   "name": "python3"
  },
  "language_info": {
   "codemirror_mode": {
    "name": "ipython",
    "version": 3
   },
   "file_extension": ".py",
   "mimetype": "text/x-python",
   "name": "python",
   "nbconvert_exporter": "python",
   "pygments_lexer": "ipython3",
   "version": "3.10.9"
  }
 },
 "nbformat": 4,
 "nbformat_minor": 5
}
